{
    "cells": [
        {
            "cell_type": "markdown",
            "id": "aedb3a47-23a9-48dc-84a7-705291c88ac7",
            "metadata": {},
            "source": [
                "# Genet Sebehat"
            ]
        },
        {
            "cell_type": "markdown",
            "id": "3d1a1273-fe60-4409-a544-c1d76f11e280",
            "metadata": {},
            "source": [
                "## Course-End Project: Personal Expense Tracker"
            ]
        },
        {
            "cell_type": "markdown",
            "id": "608e7f0d-12c4-40f2-ad61-c7ccb1ee2a6a",
            "metadata": {},
            "source": [
                "### Step 1. Add an expense"
            ]
        },
        {
            "cell_type": "markdown",
            "id": "802a09bc-96f5-4e84-bd3f-87db89eb6a4d",
            "metadata": {},
            "source": [
                "#### Create a function to prompt the user for expense details"
            ]
        },
        {
            "cell_type": "code",
            "execution_count": 1,
            "id": "a5a03900-ee65-4818-92bb-6c3fc4f49aff",
            "metadata": {},
            "outputs": [],
            "source": [
                "import csv\n",
                "# Import DictWriter class from CSV module"
            ]
        },
        {
            "cell_type": "code",
            "execution_count": 2,
            "id": "2e5eae69-bcc6-474c-967d-189d841afeaf",
            "metadata": {},
            "outputs": [],
            "source": [
                "# Initialize the list of expenses  \n",
                "expenses = []  \n",
                "  \n",
                "# Function to add an expense  \n",
                "def add_expense(): \n",
                "    date = input(\"Enter the date of the expense (YYYY-MM-DD): \")  \n",
                "    category = input(\"Enter the category of the expense (e.g. Food, Travel): \")  \n",
                "    amount = float(input(\"Enter the amount spent: \"))  \n",
                "    description = input(\"Enter a brief description of the expense: \")\n",
                "    \n",
                "    expense = {'date': date, 'category': category, 'amount': amount, 'description': description}  \n",
                "    expenses.append(expense)  \n",
                "    print(\"Expense added successfully!\")  "
            ]
        },
        {
            "cell_type": "markdown",
            "id": "f14962fc-7965-4499-96a8-668080d5cd8c",
            "metadata": {},
            "source": [
                "### Step 2.View expenses:"
            ]
        },
        {
            "cell_type": "code",
            "execution_count": 3,
            "id": "df6daa0e-ffed-48eb-8b13-2ae0e073e95b",
            "metadata": {},
            "outputs": [],
            "source": [
                "# Function to view expenses  \n",
                "def view_expenses(): \n",
                "    for expense in expenses: \n",
                "        if 'date' in expense and 'category' in expense and 'amount' in expense and 'description' in expense:  \n",
                "            print(f\"Date: {expense['date']}, Category: {expense['category']}, Amount: {expense['amount']}, Description: {expense['description']}\")  \n",
                "        else:  \n",
                "            print(\"Incomplete expense entry. Skipping...\")"
            ]
        },
        {
            "cell_type": "markdown",
            "id": "c641978c-cc2c-4ebd-88ae-b6054bfd9d0a",
            "metadata": {},
            "source": [
                "### Step 3. Set and track the budget:"
            ]
        },
        {
            "cell_type": "code",
            "execution_count": 4,
            "id": "37454144-6773-4e2b-8d30-0e26e60a20f3",
            "metadata": {},
            "outputs": [],
            "source": [
                "# Function to set and track the budget  \n",
                "def set_budget(): \n",
                "    budget = float(input(\"Enter your monthly budget: \")) \n",
                "    return budget  \n",
                "  \n",
                "def track_budget(budget): \n",
                "    total_expenses = sum(expense['amount'] for expense in expenses) \n",
                "    if total_expenses > budget: \n",
                "        print(\"You have exceeded your budget!\")  \n",
                "    else: \n",
                "        remaining_balance = budget - total_expenses  \n",
                "        print(f\"You have ${remaining_balance:.2f} left for the month.\")  "
            ]
        },
        {
            "cell_type": "markdown",
            "id": "33152102-372e-4724-8f65-efd28ddb2fa1",
            "metadata": {},
            "source": [
                "### Step 4. Save and load expenses"
            ]
        },
        {
            "cell_type": "code",
            "execution_count": 5,
            "id": "154b9aec-a8cb-42e1-aa85-427042b5c757",
            "metadata": {},
            "outputs": [],
            "source": [
                "def save_expenses(): \n",
                "    with open('expenses.csv', 'a', newline='') as csvfile: \n",
                "        fieldnames = ['date', 'category', 'amount', 'description']   \n",
                "        writer = csv.DictWriter(csvfile, fieldnames=fieldnames)   \n",
                "        #writer.writeheader()  \n",
                "        for expense in expenses: \n",
                "            writer.writerow(expense)   \n",
                "            print(\"Expenses saved to expenses.csv\")   \n",
                "    print(csvfile.closed)\n",
                "    \n"
            ]
        },
        {
            "cell_type": "code",
            "execution_count": 6,
            "id": "e030c087-a045-4e4e-a463-d143e6ced530",
            "metadata": {},
            "outputs": [],
            "source": [
                "# Function to load expenses from a CSV file  \n",
                "def load_expenses(): \n",
                "    try: \n",
                "        with open('expenses.csv', 'a') as csvfile: \n",
                "            #reader = csv.DictReader(csvfile) \n",
                "            reader = csv.reader(csvfile)\n",
                "        for row in reader: \n",
                "            expenses.append(row)\n",
                "            print(row)\n",
                "    except FileNotFoundError: \n",
                "        print(\"No expenses file found. Starting from scratch.\")  \n",
                "#print(csvfile.closed)"
            ]
        },
        {
            "cell_type": "markdown",
            "id": "6356ef8a-d2c8-495e-a424-2cb2460236fd",
            "metadata": {},
            "source": [
                "### Step 5. Create an interactive menu using while loop and call all the above fuctions"
            ]
        },
        {
            "cell_type": "code",
            "execution_count": null,
            "id": "cbbad6ab-9404-4f57-98da-a7ca7c54b260",
            "metadata": {},
            "outputs": [],
            "source": [
                "#def display_menu():\n",
                "while True:\n",
                "    print(\"1. Add expense\")  \n",
                "    print(\"2. View expenses\")  \n",
                "    print(\"3. Track budget\")  \n",
                "    print(\"4. Save expenses\")  \n",
                "    print(\"5. Exit\")  \n",
                "   \n",
                "    choice = input(\"Enter your choice: \")  \n",
                "    if choice == \"1\": \n",
                "        add_expense()  \n",
                "    elif choice == \"2\":  \n",
                "        view_expenses()  \n",
                "    elif choice == \"3\":  \n",
                "        budget = set_budget()  \n",
                "        track_budget(budget)  \n",
                "    elif choice == \"4\":  \n",
                "        save_expenses()  \n",
                "    elif choice == '5':\n",
                "        print(\"Exiting program. Goodbye!\") \n",
                "        break \n",
                "        #save_expenses()  \n",
                "    else:  \n",
                "        print(\"Invalid choice. Please try again.\")  \n",
                "        \n",
                "\n",
                "        "
            ]
        },
        {
            "cell_type": "code",
            "execution_count": null,
            "id": "55409599-1a7b-4d2d-892f-68f4fbee8771",
            "metadata": {},
            "outputs": [],
            "source": [
                "# Note:- to see the new entery on the csv file you have to choice 4 to save the new data before exit the program"
            ]
        }
    ],
    "metadata": {
        "kernelspec": {
            "display_name": "Python 3 [3.10]",
            "language": "python",
            "name": "python3"
        },
        "language_info": {
            "codemirror_mode": {
                "name": "ipython",
                "version": 3
            },
            "file_extension": ".py",
            "mimetype": "text/x-python",
            "name": "python",
            "nbconvert_exporter": "python",
            "pygments_lexer": "ipython3",
            "version": "3.10.2"
        }
    },
    "nbformat": 4,
    "nbformat_minor": 5
}